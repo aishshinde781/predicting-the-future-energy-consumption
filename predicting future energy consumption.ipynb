{
 "cells": [
  {
   "cell_type": "markdown",
   "id": "ab1f0c43",
   "metadata": {},
   "source": [
    "# Import Libraries"
   ]
  },
  {
   "cell_type": "code",
   "execution_count": 1,
   "id": "07120816",
   "metadata": {},
   "outputs": [],
   "source": [
    "import pandas as pd\n",
    "import numpy as np\n",
    "import matplotlib.pyplot as plt\n",
    "import seaborn as sns\n",
    "import pprint\n",
    "%matplotlib inline"
   ]
  },
  {
   "cell_type": "code",
   "execution_count": 2,
   "id": "bcec3ffe",
   "metadata": {},
   "outputs": [
    {
     "data": {
      "text/html": [
       "<div>\n",
       "<style scoped>\n",
       "    .dataframe tbody tr th:only-of-type {\n",
       "        vertical-align: middle;\n",
       "    }\n",
       "\n",
       "    .dataframe tbody tr th {\n",
       "        vertical-align: top;\n",
       "    }\n",
       "\n",
       "    .dataframe thead th {\n",
       "        text-align: right;\n",
       "    }\n",
       "</style>\n",
       "<table border=\"1\" class=\"dataframe\">\n",
       "  <thead>\n",
       "    <tr style=\"text-align: right;\">\n",
       "      <th></th>\n",
       "      <th>Datetime</th>\n",
       "      <th>AEP_MW</th>\n",
       "    </tr>\n",
       "  </thead>\n",
       "  <tbody>\n",
       "    <tr>\n",
       "      <th>0</th>\n",
       "      <td>2004-12-31 01:00:00</td>\n",
       "      <td>13478.0</td>\n",
       "    </tr>\n",
       "    <tr>\n",
       "      <th>1</th>\n",
       "      <td>2004-12-31 02:00:00</td>\n",
       "      <td>12865.0</td>\n",
       "    </tr>\n",
       "    <tr>\n",
       "      <th>2</th>\n",
       "      <td>2004-12-31 03:00:00</td>\n",
       "      <td>12577.0</td>\n",
       "    </tr>\n",
       "    <tr>\n",
       "      <th>3</th>\n",
       "      <td>2004-12-31 04:00:00</td>\n",
       "      <td>12517.0</td>\n",
       "    </tr>\n",
       "    <tr>\n",
       "      <th>4</th>\n",
       "      <td>2004-12-31 05:00:00</td>\n",
       "      <td>12670.0</td>\n",
       "    </tr>\n",
       "  </tbody>\n",
       "</table>\n",
       "</div>"
      ],
      "text/plain": [
       "              Datetime   AEP_MW\n",
       "0  2004-12-31 01:00:00  13478.0\n",
       "1  2004-12-31 02:00:00  12865.0\n",
       "2  2004-12-31 03:00:00  12577.0\n",
       "3  2004-12-31 04:00:00  12517.0\n",
       "4  2004-12-31 05:00:00  12670.0"
      ]
     },
     "execution_count": 2,
     "metadata": {},
     "output_type": "execute_result"
    }
   ],
   "source": [
    "df = pd.read_csv(\"AEP_hourly.csv\")\n",
    "df.head(5)"
   ]
  },
  {
   "cell_type": "code",
   "execution_count": 3,
   "id": "570e516e",
   "metadata": {},
   "outputs": [
    {
     "name": "stdout",
     "output_type": "stream",
     "text": [
      "<class 'pandas.core.frame.DataFrame'>\n",
      "RangeIndex: 121273 entries, 0 to 121272\n",
      "Data columns (total 2 columns):\n",
      " #   Column    Non-Null Count   Dtype  \n",
      "---  ------    --------------   -----  \n",
      " 0   Datetime  121273 non-null  object \n",
      " 1   AEP_MW    121273 non-null  float64\n",
      "dtypes: float64(1), object(1)\n",
      "memory usage: 1.9+ MB\n"
     ]
    }
   ],
   "source": [
    "df.info(5)"
   ]
  },
  {
   "cell_type": "code",
   "execution_count": 4,
   "id": "05c95d48",
   "metadata": {},
   "outputs": [
    {
     "data": {
      "text/html": [
       "<div>\n",
       "<style scoped>\n",
       "    .dataframe tbody tr th:only-of-type {\n",
       "        vertical-align: middle;\n",
       "    }\n",
       "\n",
       "    .dataframe tbody tr th {\n",
       "        vertical-align: top;\n",
       "    }\n",
       "\n",
       "    .dataframe thead th {\n",
       "        text-align: right;\n",
       "    }\n",
       "</style>\n",
       "<table border=\"1\" class=\"dataframe\">\n",
       "  <thead>\n",
       "    <tr style=\"text-align: right;\">\n",
       "      <th></th>\n",
       "      <th>AEP_MW</th>\n",
       "    </tr>\n",
       "  </thead>\n",
       "  <tbody>\n",
       "    <tr>\n",
       "      <th>count</th>\n",
       "      <td>121273.000000</td>\n",
       "    </tr>\n",
       "    <tr>\n",
       "      <th>mean</th>\n",
       "      <td>15499.513717</td>\n",
       "    </tr>\n",
       "    <tr>\n",
       "      <th>std</th>\n",
       "      <td>2591.399065</td>\n",
       "    </tr>\n",
       "    <tr>\n",
       "      <th>min</th>\n",
       "      <td>9581.000000</td>\n",
       "    </tr>\n",
       "    <tr>\n",
       "      <th>25%</th>\n",
       "      <td>13630.000000</td>\n",
       "    </tr>\n",
       "    <tr>\n",
       "      <th>50%</th>\n",
       "      <td>15310.000000</td>\n",
       "    </tr>\n",
       "    <tr>\n",
       "      <th>75%</th>\n",
       "      <td>17200.000000</td>\n",
       "    </tr>\n",
       "    <tr>\n",
       "      <th>max</th>\n",
       "      <td>25695.000000</td>\n",
       "    </tr>\n",
       "  </tbody>\n",
       "</table>\n",
       "</div>"
      ],
      "text/plain": [
       "              AEP_MW\n",
       "count  121273.000000\n",
       "mean    15499.513717\n",
       "std      2591.399065\n",
       "min      9581.000000\n",
       "25%     13630.000000\n",
       "50%     15310.000000\n",
       "75%     17200.000000\n",
       "max     25695.000000"
      ]
     },
     "execution_count": 4,
     "metadata": {},
     "output_type": "execute_result"
    }
   ],
   "source": [
    "df.describe()"
   ]
  },
  {
   "cell_type": "code",
   "execution_count": 5,
   "id": "9f01f21c",
   "metadata": {},
   "outputs": [
    {
     "data": {
      "text/plain": [
       "Datetime    0\n",
       "AEP_MW      0\n",
       "dtype: int64"
      ]
     },
     "execution_count": 5,
     "metadata": {},
     "output_type": "execute_result"
    }
   ],
   "source": [
    "df.isnull().sum()"
   ]
  },
  {
   "cell_type": "markdown",
   "id": "d6ce1ff7",
   "metadata": {},
   "source": [
    "# Reformat the Date Time and Columns"
   ]
  },
  {
   "cell_type": "code",
   "execution_count": 6,
   "id": "b41d4146",
   "metadata": {},
   "outputs": [
    {
     "name": "stderr",
     "output_type": "stream",
     "text": [
      "<ipython-input-6-f5d6aa487a4c>:6: FutureWarning: Series.dt.weekofyear and Series.dt.week have been deprecated.  Please use Series.dt.isocalendar().week instead.\n",
      "  dataset[\"Week\"] = pd.to_datetime(df[\"Datetime\"]).dt.week\n"
     ]
    },
    {
     "data": {
      "text/html": [
       "<div>\n",
       "<style scoped>\n",
       "    .dataframe tbody tr th:only-of-type {\n",
       "        vertical-align: middle;\n",
       "    }\n",
       "\n",
       "    .dataframe tbody tr th {\n",
       "        vertical-align: top;\n",
       "    }\n",
       "\n",
       "    .dataframe thead th {\n",
       "        text-align: right;\n",
       "    }\n",
       "</style>\n",
       "<table border=\"1\" class=\"dataframe\">\n",
       "  <thead>\n",
       "    <tr style=\"text-align: right;\">\n",
       "      <th></th>\n",
       "      <th>AEP_MW</th>\n",
       "      <th>Month</th>\n",
       "      <th>Year</th>\n",
       "      <th>Date</th>\n",
       "      <th>Time</th>\n",
       "      <th>Week</th>\n",
       "      <th>Day</th>\n",
       "    </tr>\n",
       "    <tr>\n",
       "      <th>Datetime</th>\n",
       "      <th></th>\n",
       "      <th></th>\n",
       "      <th></th>\n",
       "      <th></th>\n",
       "      <th></th>\n",
       "      <th></th>\n",
       "      <th></th>\n",
       "    </tr>\n",
       "  </thead>\n",
       "  <tbody>\n",
       "    <tr>\n",
       "      <th>2004-12-31 01:00:00</th>\n",
       "      <td>13478.0</td>\n",
       "      <td>12</td>\n",
       "      <td>2004</td>\n",
       "      <td>2004-12-31</td>\n",
       "      <td>01:00:00</td>\n",
       "      <td>53</td>\n",
       "      <td>Friday</td>\n",
       "    </tr>\n",
       "    <tr>\n",
       "      <th>2004-12-31 02:00:00</th>\n",
       "      <td>12865.0</td>\n",
       "      <td>12</td>\n",
       "      <td>2004</td>\n",
       "      <td>2004-12-31</td>\n",
       "      <td>02:00:00</td>\n",
       "      <td>53</td>\n",
       "      <td>Friday</td>\n",
       "    </tr>\n",
       "    <tr>\n",
       "      <th>2004-12-31 03:00:00</th>\n",
       "      <td>12577.0</td>\n",
       "      <td>12</td>\n",
       "      <td>2004</td>\n",
       "      <td>2004-12-31</td>\n",
       "      <td>03:00:00</td>\n",
       "      <td>53</td>\n",
       "      <td>Friday</td>\n",
       "    </tr>\n",
       "  </tbody>\n",
       "</table>\n",
       "</div>"
      ],
      "text/plain": [
       "                      AEP_MW  Month  Year        Date      Time  Week     Day\n",
       "Datetime                                                                     \n",
       "2004-12-31 01:00:00  13478.0     12  2004  2004-12-31  01:00:00    53  Friday\n",
       "2004-12-31 02:00:00  12865.0     12  2004  2004-12-31  02:00:00    53  Friday\n",
       "2004-12-31 03:00:00  12577.0     12  2004  2004-12-31  03:00:00    53  Friday"
      ]
     },
     "execution_count": 6,
     "metadata": {},
     "output_type": "execute_result"
    }
   ],
   "source": [
    "dataset = df\n",
    "dataset[\"Month\"] = pd.to_datetime(df[\"Datetime\"]).dt.month\n",
    "dataset[\"Year\"] = pd.to_datetime(df[\"Datetime\"]).dt.year\n",
    "dataset[\"Date\"] = pd.to_datetime(df[\"Datetime\"]).dt.date\n",
    "dataset[\"Time\"] = pd.to_datetime(df[\"Datetime\"]).dt.time\n",
    "dataset[\"Week\"] = pd.to_datetime(df[\"Datetime\"]).dt.week\n",
    "dataset[\"Day\"] = pd.to_datetime(df[\"Datetime\"]).dt.day_name()\n",
    "dataset = df.set_index(\"Datetime\")\n",
    "dataset.index = pd.to_datetime(dataset.index)\n",
    "dataset.head(3)"
   ]
  },
  {
   "cell_type": "code",
   "execution_count": 7,
   "id": "42a296b0",
   "metadata": {},
   "outputs": [
    {
     "name": "stdout",
     "output_type": "stream",
     "text": [
      "[2004 2005 2006 2007 2008 2009 2010 2011 2012 2013 2014 2015 2016 2017\n",
      " 2018]\n",
      "Total Number of Unique Year 15\n"
     ]
    }
   ],
   "source": [
    "#How many unique year do we have in a dataset\n",
    "print(df.Year.unique())\n",
    "print(\"Total Number of Unique Year\", df.Year.nunique())"
   ]
  },
  {
   "cell_type": "markdown",
   "id": "251f4c9a",
   "metadata": {},
   "source": [
    "# Lets us see the energy consumption Each Year"
   ]
  },
  {
   "cell_type": "code",
   "execution_count": 8,
   "id": "4349b87e",
   "metadata": {},
   "outputs": [
    {
     "name": "stderr",
     "output_type": "stream",
     "text": [
      "No handles with labels found to put in legend.\n"
     ]
    },
    {
     "data": {
      "text/plain": [
       "Text(0.5, 1.0, 'Energy Consumption According to Year')"
      ]
     },
     "execution_count": 8,
     "metadata": {},
     "output_type": "execute_result"
    },
    {
     "data": {
      "image/png": "[encoded data removed]",
      "text/plain": [
       "<Figure size 432x288 with 1 Axes>"
      ]
     },
     "metadata": {
      "needs_background": "light"
     },
     "output_type": "display_data"
    }
   ],
   "source": [
    "from matplotlib import style\n",
    "fig = plt.figure()\n",
    "ax1 = plt.subplot2grid((1,1),(0,0))\n",
    "style.use('ggplot')\n",
    "sns.lineplot(x=dataset[\"Year\"], y=dataset[\"AEP_MW\"], data=df)\n",
    "sns.set(rc={'figure.figsize':(20,6)})\n",
    "\n",
    "plt.title(\"Energy Consumption Year 2004\")\n",
    "plt.xlabel(\"Date\")\n",
    "plt.ylabel(\"Energy in MW\")\n",
    "plt.grid(True)\n",
    "plt.legend()\n",
    "\n",
    "for label in ax1.xaxis.get_ticklabels():\n",
    "    label.set_rotation(90)\n",
    "    \n",
    "plt.title(\"Energy Consumption According to Year\")    "
   ]
  },
  {
   "cell_type": "markdown",
   "id": "2988a601",
   "metadata": {},
   "source": [
    "# Energy Distribution"
   ]
  },
  {
   "cell_type": "code",
   "execution_count": 10,
   "id": "974fec41",
   "metadata": {},
   "outputs": [
    {
     "name": "stderr",
     "output_type": "stream",
     "text": [
      "C:\\ProgramData\\Anaconda3\\lib\\site-packages\\seaborn\\distributions.py:2557: FutureWarning: `distplot` is a deprecated function and will be removed in a future version. Please adapt your code to use either `displot` (a figure-level function with similar flexibility) or `histplot` (an axes-level function for histograms).\n",
      "  warnings.warn(msg, FutureWarning)\n"
     ]
    },
    {
     "data": {
      "text/plain": [
       "Text(0.5, 1.0, 'Ennergy Distribution')"
      ]
     },
     "execution_count": 10,
     "metadata": {},
     "output_type": "execute_result"
    },
    {
     "data": {
      "image/png": "[encoded data removed]",
      "text/plain": [
       "<Figure size 1440x432 with 1 Axes>"
      ]
     },
     "metadata": {},
     "output_type": "display_data"
    }
   ],
   "source": [
    "sns.distplot(dataset[\"AEP_MW\"])\n",
    "plt.title(\"Ennergy Distribution\")"
   ]
  },
  {
   "cell_type": "markdown",
   "id": "1546815b",
   "metadata": {},
   "source": [
    "# Resampleing Data"
   ]
  },
  {
   "cell_type": "code",
   "execution_count": 2,
   "id": "66c6a67a",
   "metadata": {},
   "outputs": [
    {
     "ename": "NameError",
     "evalue": "name 'dataset' is not defined",
     "output_type": "error",
     "traceback": [
      "\u001b[1;31m---------------------------------------------------------------------------\u001b[0m",
      "\u001b[1;31mNameError\u001b[0m                                 Traceback (most recent call last)",
      "\u001b[1;32m<ipython-input-2-8226c2f53dbb>\u001b[0m in \u001b[0;36m<module>\u001b[1;34m\u001b[0m\n\u001b[1;32m----> 1\u001b[1;33m \u001b[0mNewDataSet\u001b[0m \u001b[1;33m=\u001b[0m \u001b[0mdataset\u001b[0m\u001b[1;33m.\u001b[0m\u001b[0mresample\u001b[0m\u001b[1;33m(\u001b[0m\u001b[1;34m'D'\u001b[0m\u001b[1;33m)\u001b[0m\u001b[1;33m.\u001b[0m\u001b[0mmean\u001b[0m\u001b[1;33m(\u001b[0m\u001b[1;33m)\u001b[0m\u001b[1;33m\u001b[0m\u001b[1;33m\u001b[0m\u001b[0m\n\u001b[0m",
      "\u001b[1;31mNameError\u001b[0m: name 'dataset' is not defined"
     ]
    }
   ],
   "source": [
    "NewDataSet = dataset.resample('D').mean()"
   ]
  },
  {
   "cell_type": "code",
   "execution_count": 1,
   "id": "aeb556be",
   "metadata": {},
   "outputs": [
    {
     "ename": "NameError",
     "evalue": "name 'dataset' is not defined",
     "output_type": "error",
     "traceback": [
      "\u001b[1;31m---------------------------------------------------------------------------\u001b[0m",
      "\u001b[1;31mNameError\u001b[0m                                 Traceback (most recent call last)",
      "\u001b[1;32m<ipython-input-1-2dd16447bf16>\u001b[0m in \u001b[0;36m<module>\u001b[1;34m\u001b[0m\n\u001b[1;32m----> 1\u001b[1;33m \u001b[0mprint\u001b[0m\u001b[1;33m(\u001b[0m\u001b[1;34m\"Old Dataset \"\u001b[0m\u001b[1;33m,\u001b[0m\u001b[0mdataset\u001b[0m\u001b[1;33m.\u001b[0m\u001b[0mshape\u001b[0m \u001b[1;33m)\u001b[0m\u001b[1;33m\u001b[0m\u001b[1;33m\u001b[0m\u001b[0m\n\u001b[0m\u001b[0;32m      2\u001b[0m \u001b[0mprint\u001b[0m\u001b[1;33m(\u001b[0m\u001b[1;34m\"New  Dataset \"\u001b[0m\u001b[1;33m,\u001b[0m\u001b[0mNewDataSet\u001b[0m\u001b[1;33m.\u001b[0m\u001b[0mshape\u001b[0m \u001b[1;33m)\u001b[0m\u001b[1;33m\u001b[0m\u001b[1;33m\u001b[0m\u001b[0m\n",
      "\u001b[1;31mNameError\u001b[0m: name 'dataset' is not defined"
     ]
    }
   ],
   "source": [
    "print(\"Old Dataset \",dataset.shape )\n",
    "print(\"New  Dataset \",NewDataSet.shape )"
   ]
  },
  {
   "cell_type": "code",
   "execution_count": 14,
   "id": "cdcc1d67",
   "metadata": {},
   "outputs": [],
   "source": [
    "TestData = NewDataSet.tail(100)\n",
    "\n",
    "Training_Set = NewDataSet.iloc[:,0:1]\n",
    "\n",
    "Training_Set = Training_Set[:-60]"
   ]
  },
  {
   "cell_type": "code",
   "execution_count": 15,
   "id": "f327c1e2",
   "metadata": {},
   "outputs": [
    {
     "name": "stdout",
     "output_type": "stream",
     "text": [
      "Training Set Shape  (4995, 1)\n",
      "Test Set Shape  (100, 4)\n"
     ]
    }
   ],
   "source": [
    "print(\"Training Set Shape \", Training_Set.shape)\n",
    "print(\"Test Set Shape \", TestData.shape)"
   ]
  },
  {
   "cell_type": "code",
   "execution_count": 18,
   "id": "75427d30",
   "metadata": {},
   "outputs": [],
   "source": [
    "from sklearn.preprocessing import MinMaxScaler"
   ]
  },
  {
   "cell_type": "code",
   "execution_count": 20,
   "id": "c60e4bf2",
   "metadata": {},
   "outputs": [],
   "source": [
    "#Training_Set = Training_Set.values\n",
    "sc = MinMaxScaler(feature_range=(0, 1))\n",
    "Train = sc.fit_transform(Training_Set)\n",
    "\n"
   ]
  },
  {
   "cell_type": "code",
   "execution_count": 21,
   "id": "010edf5c",
   "metadata": {},
   "outputs": [
    {
     "name": "stdout",
     "output_type": "stream",
     "text": [
      "(4935, 60, 1)\n",
      "(4935, 1)\n"
     ]
    }
   ],
   "source": [
    "X_Train = []\n",
    "Y_Train = []\n",
    "\n",
    "# Range should be fromm 60 Values to END \n",
    "for i in range(60, Train.shape[0]):\n",
    "    \n",
    "    # X_Train 0-59 \n",
    "    X_Train.append(Train[i-60:i])\n",
    "    \n",
    "    # Y Would be 60 th Value based on past 60 Values \n",
    "    Y_Train.append(Train[i])\n",
    "\n",
    "# Convert into Numpy Array\n",
    "X_Train = np.array(X_Train)\n",
    "Y_Train = np.array(Y_Train)\n",
    "\n",
    "print(X_Train.shape)\n",
    "print(Y_Train.shape)"
   ]
  },
  {
   "cell_type": "code",
   "execution_count": 22,
   "id": "559cd4c4",
   "metadata": {},
   "outputs": [
    {
     "data": {
      "text/plain": [
       "(4935, 60, 1)"
      ]
     },
     "execution_count": 22,
     "metadata": {},
     "output_type": "execute_result"
    }
   ],
   "source": [
    "# Shape should be Number of [Datapoints , Steps , 1 )\n",
    "# we convert into 3-d Vector or #rd Dimesnsion\n",
    "X_Train = np.reshape(X_Train, newshape=(X_Train.shape[0], X_Train.shape[1], 1))\n",
    "X_Train.shape"
   ]
  },
  {
   "cell_type": "markdown",
   "id": "14e2fce4",
   "metadata": {},
   "source": [
    "# Model"
   ]
  },
  {
   "cell_type": "code",
   "execution_count": 26,
   "id": "b0860bb0",
   "metadata": {},
   "outputs": [],
   "source": [
    "import keras.models\n",
    "import tensorflow as tf\n",
    "from keras.models import Sequential\n",
    "from keras.layers import LSTM\n",
    "from keras.layers import Dropout\n",
    "from keras.layers import Activation, Dense\n",
    "\n",
    "\n",
    "regressor = Sequential()\n",
    "\n",
    "# Adding the first LSTM layer and some Dropout regularisation\n",
    "regressor.add(LSTM(units = 50, return_sequences = True, input_shape = (X_Train.shape[1], 1)))\n",
    "regressor.add(Dropout(0.2))\n",
    "\n",
    "# Adding a second LSTM layer and some Dropout regularisation\n",
    "regressor.add(LSTM(units = 50, return_sequences = True))\n",
    "regressor.add(Dropout(0.2))\n",
    "\n",
    "# Adding a third LSTM layer and some Dropout regularisation\n",
    "regressor.add(LSTM(units = 50, return_sequences = True))\n",
    "regressor.add(Dropout(0.2))\n",
    "\n",
    "# Adding a fourth LSTM layer and some Dropout regularisation\n",
    "regressor.add(LSTM(units = 50))\n",
    "regressor.add(Dropout(0.2))\n",
    "\n",
    "# Adding the output layer\n",
    "regressor.add(Dense(units = 1))\n",
    "\n",
    "# Compiling the RNN\n",
    "regressor.compile(optimizer = 'adam', loss = 'mean_squared_error')"
   ]
  },
  {
   "cell_type": "code",
   "execution_count": 27,
   "id": "b9ac6dc8",
   "metadata": {},
   "outputs": [
    {
     "name": "stdout",
     "output_type": "stream",
     "text": [
      "Epoch 1/50\n",
      "155/155 [==============================] - 37s 147ms/step - loss: 0.0233\n",
      "Epoch 2/50\n",
      "155/155 [==============================] - 24s 157ms/step - loss: 0.0187\n",
      "Epoch 3/50\n",
      "155/155 [==============================] - 23s 150ms/step - loss: 0.0174\n",
      "Epoch 4/50\n",
      "155/155 [==============================] - 25s 159ms/step - loss: 0.0168\n",
      "Epoch 5/50\n",
      "155/155 [==============================] - 23s 147ms/step - loss: 0.0161\n",
      "Epoch 6/50\n",
      "155/155 [==============================] - 24s 158ms/step - loss: 0.0157\n",
      "Epoch 7/50\n",
      "155/155 [==============================] - 23s 146ms/step - loss: 0.0152\n",
      "Epoch 8/50\n",
      "155/155 [==============================] - 24s 157ms/step - loss: 0.0145\n",
      "Epoch 9/50\n",
      "155/155 [==============================] - 23s 148ms/step - loss: 0.0130\n",
      "Epoch 10/50\n",
      "155/155 [==============================] - 24s 158ms/step - loss: 0.0107\n",
      "Epoch 11/50\n",
      "155/155 [==============================] - 23s 147ms/step - loss: 0.0096\n",
      "Epoch 12/50\n",
      "155/155 [==============================] - 24s 155ms/step - loss: 0.0090\n",
      "Epoch 13/50\n",
      "155/155 [==============================] - 23s 151ms/step - loss: 0.0086\n",
      "Epoch 14/50\n",
      "155/155 [==============================] - 24s 154ms/step - loss: 0.0079\n",
      "Epoch 15/50\n",
      "155/155 [==============================] - 24s 152ms/step - loss: 0.0078\n",
      "Epoch 16/50\n",
      "155/155 [==============================] - 24s 155ms/step - loss: 0.0075\n",
      "Epoch 17/50\n",
      "155/155 [==============================] - 24s 154ms/step - loss: 0.0071\n",
      "Epoch 18/50\n",
      "155/155 [==============================] - 24s 153ms/step - loss: 0.0070\n",
      "Epoch 19/50\n",
      "155/155 [==============================] - 24s 154ms/step - loss: 0.0066\n",
      "Epoch 20/50\n",
      "155/155 [==============================] - 24s 152ms/step - loss: 0.0061\n",
      "Epoch 21/50\n",
      "155/155 [==============================] - 24s 156ms/step - loss: 0.0060\n",
      "Epoch 22/50\n",
      "155/155 [==============================] - 22s 142ms/step - loss: 0.0057\n",
      "Epoch 23/50\n",
      "155/155 [==============================] - 25s 158ms/step - loss: 0.0055\n",
      "Epoch 24/50\n",
      "155/155 [==============================] - 23s 149ms/step - loss: 0.0053\n",
      "Epoch 25/50\n",
      "155/155 [==============================] - 22s 141ms/step - loss: 0.0052\n",
      "Epoch 26/50\n",
      "155/155 [==============================] - 12s 74ms/step - loss: 0.0051\n",
      "Epoch 27/50\n",
      "155/155 [==============================] - 10s 66ms/step - loss: 0.0052\n",
      "Epoch 28/50\n",
      "155/155 [==============================] - 10s 63ms/step - loss: 0.0050\n",
      "Epoch 29/50\n",
      "155/155 [==============================] - 9s 61ms/step - loss: 0.0050\n",
      "Epoch 30/50\n",
      "155/155 [==============================] - 9s 61ms/step - loss: 0.0049\n",
      "Epoch 31/50\n",
      "155/155 [==============================] - 9s 61ms/step - loss: 0.0048\n",
      "Epoch 32/50\n",
      "155/155 [==============================] - 9s 60ms/step - loss: 0.0048\n",
      "Epoch 33/50\n",
      "155/155 [==============================] - 9s 60ms/step - loss: 0.0048\n",
      "Epoch 34/50\n",
      "155/155 [==============================] - 9s 61ms/step - loss: 0.0047\n",
      "Epoch 35/50\n",
      "155/155 [==============================] - 9s 60ms/step - loss: 0.0047\n",
      "Epoch 36/50\n",
      "155/155 [==============================] - 10s 61ms/step - loss: 0.0046\n",
      "Epoch 37/50\n",
      "155/155 [==============================] - 9s 60ms/step - loss: 0.0047\n",
      "Epoch 38/50\n",
      "155/155 [==============================] - 9s 61ms/step - loss: 0.0047\n",
      "Epoch 39/50\n",
      "155/155 [==============================] - 9s 61ms/step - loss: 0.0047\n",
      "Epoch 40/50\n",
      "155/155 [==============================] - 9s 60ms/step - loss: 0.0045\n",
      "Epoch 41/50\n",
      "155/155 [==============================] - 9s 61ms/step - loss: 0.0045\n",
      "Epoch 42/50\n",
      "155/155 [==============================] - 9s 60ms/step - loss: 0.0045\n",
      "Epoch 43/50\n",
      "155/155 [==============================] - 9s 61ms/step - loss: 0.0045\n",
      "Epoch 44/50\n",
      "155/155 [==============================] - 9s 61ms/step - loss: 0.0045\n",
      "Epoch 45/50\n",
      "155/155 [==============================] - 9s 60ms/step - loss: 0.0044\n",
      "Epoch 46/50\n",
      "155/155 [==============================] - 9s 61ms/step - loss: 0.0045\n",
      "Epoch 47/50\n",
      "155/155 [==============================] - 9s 60ms/step - loss: 0.0045\n",
      "Epoch 48/50\n",
      "155/155 [==============================] - 9s 61ms/step - loss: 0.0044\n",
      "Epoch 49/50\n",
      "155/155 [==============================] - 9s 61ms/step - loss: 0.0044\n",
      "Epoch 50/50\n",
      "155/155 [==============================] - 9s 61ms/step - loss: 0.0044\n"
     ]
    },
    {
     "data": {
      "text/plain": [
       "<keras.callbacks.History at 0x20bc38db9a0>"
      ]
     },
     "execution_count": 27,
     "metadata": {},
     "output_type": "execute_result"
    }
   ],
   "source": [
    "regressor.fit(X_Train, Y_Train, epochs = 50, batch_size = 32)"
   ]
  },
  {
   "cell_type": "markdown",
   "id": "9c74e8b5",
   "metadata": {},
   "source": [
    "# Test Data"
   ]
  },
  {
   "cell_type": "code",
   "execution_count": 28,
   "id": "9cd5e5a5",
   "metadata": {},
   "outputs": [
    {
     "data": {
      "text/html": [
       "<div>\n",
       "<style scoped>\n",
       "    .dataframe tbody tr th:only-of-type {\n",
       "        vertical-align: middle;\n",
       "    }\n",
       "\n",
       "    .dataframe tbody tr th {\n",
       "        vertical-align: top;\n",
       "    }\n",
       "\n",
       "    .dataframe thead th {\n",
       "        text-align: right;\n",
       "    }\n",
       "</style>\n",
       "<table border=\"1\" class=\"dataframe\">\n",
       "  <thead>\n",
       "    <tr style=\"text-align: right;\">\n",
       "      <th></th>\n",
       "      <th>AEP_MW</th>\n",
       "      <th>Month</th>\n",
       "      <th>Year</th>\n",
       "      <th>Week</th>\n",
       "    </tr>\n",
       "    <tr>\n",
       "      <th>Datetime</th>\n",
       "      <th></th>\n",
       "      <th></th>\n",
       "      <th></th>\n",
       "      <th></th>\n",
       "    </tr>\n",
       "  </thead>\n",
       "  <tbody>\n",
       "    <tr>\n",
       "      <th>2018-04-26</th>\n",
       "      <td>13157.791667</td>\n",
       "      <td>4</td>\n",
       "      <td>2018</td>\n",
       "      <td>17</td>\n",
       "    </tr>\n",
       "    <tr>\n",
       "      <th>2018-04-27</th>\n",
       "      <td>12964.000000</td>\n",
       "      <td>4</td>\n",
       "      <td>2018</td>\n",
       "      <td>17</td>\n",
       "    </tr>\n",
       "  </tbody>\n",
       "</table>\n",
       "</div>"
      ],
      "text/plain": [
       "                  AEP_MW  Month  Year  Week\n",
       "Datetime                                   \n",
       "2018-04-26  13157.791667      4  2018    17\n",
       "2018-04-27  12964.000000      4  2018    17"
      ]
     },
     "execution_count": 28,
     "metadata": {},
     "output_type": "execute_result"
    }
   ],
   "source": [
    "TestData.head(2)"
   ]
  },
  {
   "cell_type": "code",
   "execution_count": 29,
   "id": "728ea327",
   "metadata": {},
   "outputs": [
    {
     "data": {
      "text/plain": [
       "(100, 4)"
      ]
     },
     "execution_count": 29,
     "metadata": {},
     "output_type": "execute_result"
    }
   ],
   "source": [
    "TestData.shape"
   ]
  },
  {
   "cell_type": "code",
   "execution_count": 30,
   "id": "cd2e5562",
   "metadata": {},
   "outputs": [
    {
     "data": {
      "text/plain": [
       "(5055, 4)"
      ]
     },
     "execution_count": 30,
     "metadata": {},
     "output_type": "execute_result"
    }
   ],
   "source": [
    "NewDataSet.shape"
   ]
  },
  {
   "cell_type": "code",
   "execution_count": 31,
   "id": "08b44b72",
   "metadata": {},
   "outputs": [],
   "source": [
    "Df_Total = pd.concat((NewDataSet[[\"AEP_MW\"]], TestData[[\"AEP_MW\"]]), axis=0)"
   ]
  },
  {
   "cell_type": "code",
   "execution_count": 32,
   "id": "899ba6b2",
   "metadata": {},
   "outputs": [
    {
     "data": {
      "text/plain": [
       "(5155, 1)"
      ]
     },
     "execution_count": 32,
     "metadata": {},
     "output_type": "execute_result"
    }
   ],
   "source": [
    "Df_Total.shape"
   ]
  },
  {
   "cell_type": "code",
   "execution_count": 33,
   "id": "adc4764b",
   "metadata": {},
   "outputs": [
    {
     "data": {
      "text/plain": [
       "(160, 1)"
      ]
     },
     "execution_count": 33,
     "metadata": {},
     "output_type": "execute_result"
    }
   ],
   "source": [
    "inputs = Df_Total[len(Df_Total) - len(TestData) - 60:].values\n",
    "inputs.shape"
   ]
  },
  {
   "cell_type": "code",
   "execution_count": 34,
   "id": "84f392e6",
   "metadata": {},
   "outputs": [
    {
     "name": "stdout",
     "output_type": "stream",
     "text": [
      "4/4 [==============================] - 1s 25ms/step\n"
     ]
    }
   ],
   "source": [
    "inputs = Df_Total[len(Df_Total) - len(TestData) - 60:].values\n",
    "\n",
    "# We need to Reshape\n",
    "inputs = inputs.reshape(-1,1)\n",
    "\n",
    "# Normalize the Dataset\n",
    "inputs = sc.transform(inputs)\n",
    "\n",
    "X_test = []\n",
    "for i in range(60, 160):\n",
    "    X_test.append(inputs[i-60:i])\n",
    "    \n",
    "# Convert into Numpy Array\n",
    "X_test = np.array(X_test)\n",
    "\n",
    "# Reshape before Passing to Network\n",
    "X_test = np.reshape(X_test, (X_test.shape[0], X_test.shape[1], 1))\n",
    "\n",
    "# Pass to Model \n",
    "predicted_stock_price = regressor.predict(X_test)\n",
    "\n",
    "# Do inverse Transformation to get Values \n",
    "predicted_stock_price = sc.inverse_transform(predicted_stock_price)"
   ]
  },
  {
   "cell_type": "code",
   "execution_count": 35,
   "id": "590eb573",
   "metadata": {},
   "outputs": [],
   "source": [
    "True_MegaWatt = TestData[\"AEP_MW\"].to_list()\n",
    "Predicted_MegaWatt  = predicted_stock_price\n",
    "dates = TestData.index.to_list()"
   ]
  },
  {
   "cell_type": "code",
   "execution_count": 36,
   "id": "71283cbb",
   "metadata": {},
   "outputs": [],
   "source": [
    "Machine_Df = pd.DataFrame(data={\n",
    "    \"Date\":dates,\n",
    "    \"TrueMegaWatt\": True_MegaWatt,\n",
    "    \"PredictedMeagWatt\":[x[0] for x in Predicted_MegaWatt ]\n",
    "})"
   ]
  },
  {
   "cell_type": "markdown",
   "id": "00b51aca",
   "metadata": {},
   "source": [
    "# Future Predicted"
   ]
  },
  {
   "cell_type": "code",
   "execution_count": 37,
   "id": "782e5144",
   "metadata": {},
   "outputs": [
    {
     "data": {
      "text/html": [
       "<div>\n",
       "<style scoped>\n",
       "    .dataframe tbody tr th:only-of-type {\n",
       "        vertical-align: middle;\n",
       "    }\n",
       "\n",
       "    .dataframe tbody tr th {\n",
       "        vertical-align: top;\n",
       "    }\n",
       "\n",
       "    .dataframe thead th {\n",
       "        text-align: right;\n",
       "    }\n",
       "</style>\n",
       "<table border=\"1\" class=\"dataframe\">\n",
       "  <thead>\n",
       "    <tr style=\"text-align: right;\">\n",
       "      <th></th>\n",
       "      <th>Date</th>\n",
       "      <th>TrueMegaWatt</th>\n",
       "      <th>PredictedMeagWatt</th>\n",
       "    </tr>\n",
       "  </thead>\n",
       "  <tbody>\n",
       "    <tr>\n",
       "      <th>0</th>\n",
       "      <td>2018-04-26</td>\n",
       "      <td>13157.791667</td>\n",
       "      <td>13772.666016</td>\n",
       "    </tr>\n",
       "    <tr>\n",
       "      <th>1</th>\n",
       "      <td>2018-04-27</td>\n",
       "      <td>12964.000000</td>\n",
       "      <td>13194.319336</td>\n",
       "    </tr>\n",
       "    <tr>\n",
       "      <th>2</th>\n",
       "      <td>2018-04-28</td>\n",
       "      <td>12237.583333</td>\n",
       "      <td>14674.717773</td>\n",
       "    </tr>\n",
       "    <tr>\n",
       "      <th>3</th>\n",
       "      <td>2018-04-29</td>\n",
       "      <td>12156.791667</td>\n",
       "      <td>13341.236328</td>\n",
       "    </tr>\n",
       "    <tr>\n",
       "      <th>4</th>\n",
       "      <td>2018-04-30</td>\n",
       "      <td>13443.500000</td>\n",
       "      <td>12882.663086</td>\n",
       "    </tr>\n",
       "    <tr>\n",
       "      <th>...</th>\n",
       "      <td>...</td>\n",
       "      <td>...</td>\n",
       "      <td>...</td>\n",
       "    </tr>\n",
       "    <tr>\n",
       "      <th>95</th>\n",
       "      <td>2018-07-30</td>\n",
       "      <td>15368.083333</td>\n",
       "      <td>15368.762695</td>\n",
       "    </tr>\n",
       "    <tr>\n",
       "      <th>96</th>\n",
       "      <td>2018-07-31</td>\n",
       "      <td>15180.291667</td>\n",
       "      <td>15667.676758</td>\n",
       "    </tr>\n",
       "    <tr>\n",
       "      <th>97</th>\n",
       "      <td>2018-08-01</td>\n",
       "      <td>15151.166667</td>\n",
       "      <td>15252.361328</td>\n",
       "    </tr>\n",
       "    <tr>\n",
       "      <th>98</th>\n",
       "      <td>2018-08-02</td>\n",
       "      <td>15687.666667</td>\n",
       "      <td>15273.585938</td>\n",
       "    </tr>\n",
       "    <tr>\n",
       "      <th>99</th>\n",
       "      <td>2018-08-03</td>\n",
       "      <td>14809.000000</td>\n",
       "      <td>15479.376953</td>\n",
       "    </tr>\n",
       "  </tbody>\n",
       "</table>\n",
       "<p>100 rows × 3 columns</p>\n",
       "</div>"
      ],
      "text/plain": [
       "         Date  TrueMegaWatt  PredictedMeagWatt\n",
       "0  2018-04-26  13157.791667       13772.666016\n",
       "1  2018-04-27  12964.000000       13194.319336\n",
       "2  2018-04-28  12237.583333       14674.717773\n",
       "3  2018-04-29  12156.791667       13341.236328\n",
       "4  2018-04-30  13443.500000       12882.663086\n",
       "..        ...           ...                ...\n",
       "95 2018-07-30  15368.083333       15368.762695\n",
       "96 2018-07-31  15180.291667       15667.676758\n",
       "97 2018-08-01  15151.166667       15252.361328\n",
       "98 2018-08-02  15687.666667       15273.585938\n",
       "99 2018-08-03  14809.000000       15479.376953\n",
       "\n",
       "[100 rows x 3 columns]"
      ]
     },
     "execution_count": 37,
     "metadata": {},
     "output_type": "execute_result"
    }
   ],
   "source": [
    "Machine_Df"
   ]
  },
  {
   "cell_type": "code",
   "execution_count": 38,
   "id": "bcb810b8",
   "metadata": {},
   "outputs": [],
   "source": [
    "True_MegaWatt = TestData[\"AEP_MW\"].to_list()\n",
    "Predicted_MegaWatt  = [x[0] for x in Predicted_MegaWatt ]\n",
    "dates = TestData.index.to_list()"
   ]
  },
  {
   "cell_type": "code",
   "execution_count": 39,
   "id": "9a67bda1",
   "metadata": {},
   "outputs": [
    {
     "name": "stderr",
     "output_type": "stream",
     "text": [
      "No handles with labels found to put in legend.\n"
     ]
    },
    {
     "data": {
      "text/plain": [
       "<matplotlib.legend.Legend at 0x20bcf5f52e0>"
      ]
     },
     "execution_count": 39,
     "metadata": {},
     "output_type": "execute_result"
    },
    {
     "data": {
      "image/png": "[encoded data removed]",
      "text/plain": [
       "<Figure size 1440x432 with 1 Axes>"
      ]
     },
     "metadata": {},
     "output_type": "display_data"
    }
   ],
   "source": [
    "fig = plt.figure()\n",
    "\n",
    "ax1= fig.add_subplot(111)\n",
    "\n",
    "x = dates\n",
    "y = True_MegaWatt\n",
    "\n",
    "y1 = Predicted_MegaWatt\n",
    "\n",
    "plt.plot(x,y, color=\"green\")\n",
    "plt.plot(x,y1, color=\"red\")\n",
    "# beautify the x-labels\n",
    "plt.gcf().autofmt_xdate()\n",
    "plt.xlabel('Dates')\n",
    "plt.ylabel(\"Power in MW\")\n",
    "plt.title(\"Machine Learned the Pattern Predicting Future Values \")\n",
    "plt.legend()"
   ]
  },
  {
   "cell_type": "code",
   "execution_count": null,
   "id": "584ea44a",
   "metadata": {},
   "outputs": [],
   "source": []
  }
 ],
 "metadata": {
  "kernelspec": {
   "display_name": "Python 3",
   "language": "python",
   "name": "python3"
  },
  "language_info": {
   "codemirror_mode": {
    "name": "ipython",
    "version": 3
   },
   "file_extension": ".py",
   "mimetype": "text/x-python",
   "name": "python",
   "nbconvert_exporter": "python",
   "pygments_lexer": "ipython3",
   "version": "3.8.8"
  }
 },
 "nbformat": 4,
 "nbformat_minor": 5
}
